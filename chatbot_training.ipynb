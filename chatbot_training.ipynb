{
 "cells": [
  {
   "cell_type": "code",
   "execution_count": 1,
   "metadata": {},
   "outputs": [],
   "source": [
    "import os\n",
    "import pandas as pd"
   ]
  },
  {
   "cell_type": "code",
   "execution_count": 2,
   "metadata": {},
   "outputs": [],
   "source": [
    "# Load the dialogue files\n",
    "dialogues_text_file = 'dailydialog/dialogues_text.txt'\n",
    "dialogues_topic_file = 'dailydialog/dialogues_topic.txt'\n",
    "dialogues_act_file = 'dailydialog/dialogues_act.txt'\n",
    "dialogues_emotion_file = 'dailydialog/dialogues_emotion.txt'"
   ]
  },
  {
   "cell_type": "code",
   "execution_count": 3,
   "metadata": {},
   "outputs": [
    {
     "name": "stdout",
     "output_type": "stream",
     "text": [
      "[\"The kitchen stinks . __eou__ I'll throw out the garbage . __eou__\\n\", 'So Dick , how about getting some coffee for tonight ? __eou__ Coffee ? I don ’ t honestly like that kind of stuff . __eou__ Come on , you can at least try a little , besides your cigarette . __eou__ What ’ s wrong with that ? Cigarette is the thing I go crazy for . __eou__ Not for me , Dick . __eou__\\n', 'Are things still going badly with your houseguest ? __eou__ Getting worse . Now he ’ s eating me out of house and home . I ’ Ve tried talking to him but it all goes in one ear and out the other . He makes himself at home , which is fine . But what really gets me is that yesterday he walked into the living room in the raw and I had company over ! That was the last straw . __eou__ Leo , I really think you ’ re beating around the bush with this guy . I know he used to be your best friend in college , but I really think it ’ s time to lay down the law . __eou__ You ’ re right . Everything is probably going to come to a head tonight . I ’ ll keep you informed . __eou__\\n', \"Would you mind waiting a while ? __eou__ Well , how long will it be ? __eou__ I'm not sure . But I'll get a table ready as fast as I can . __eou__ OK . We'll wait . __eou__\\n\", \"Are you going to the annual party ? I can give you a ride if you need one . __eou__ Thanks a lot . That's the favor I was going to ask you for . __eou__ The pleasure is mine . __eou__\\n\", 'Isn ’ t he the best instructor ? I think he ’ s so hot . Wow ! I really feel energized , don ’ t you ? __eou__ I swear , I ’ m going to kill you for this . __eou__ What ’ s wrong ? Didn ’ t you think it was fun ? ! __eou__ Oh , yeah ! I had a blast ! I love sweating like a pig with a bunch of pot bellies who all smell bad . Sorry , I ’ m just not into this health kick . __eou__ Oh , no , get off it . It wasn ’ t such a killer class . You just have to get into it . Like they say , no pain , no gain . __eou__ I am wiped out . Thank you . __eou__ Look , next time get yourself some comfy shoes . You ’ re gonna come back again with me , aren ’ t you ? __eou__ Never ! But thank you for inviting me . __eou__ Come on . You ’ ll feel better after we hit the showers . __eou__\\n', \"Can I take your order now or do you still want to look at the menu ? __eou__ Well , I want a fillet steak , medium , but my little girl doesn't care for steak . Could she have something else instead ? __eou__ Certainly . How about spaghetti with clams and shrimps . __eou__ Sounds delicious . OK . She'll try that . __eou__\\n\", \"Can you manage chopsticks ? __eou__ Why not ? See . __eou__ Good mastery . How do you like our Chinese food ? __eou__ Oh , great ! It's delicious . You see , I am already putting on weight . There is one thing I don't like however , MSG . __eou__ What's wrong with MSG ? It helps to bring out the taste of the food . __eou__ According to some studies it may cause cancer . __eou__ Oh , don't let that worry you . If that were true , China wouldn't have such a large population . __eou__ I just happen to have a question for you guys . Why do the Chinese cook the vegetables ? You see what I mean is that most vitamin are destroyed when heated . __eou__ I don't know exactly . It's a tradition . Maybe it's for sanitary reasons . __eou__\\n\", \"I'm exhausted . __eou__ Okay , let's go home . __eou__\\n\", \"Good evening . Welcome to Cherry's . Do you have a reservation ? __eou__ No , we don't . __eou__ How many of you , please ? __eou__ Six , including two kids . __eou__ I'm afraid all the big tables are taken . __eou__\\n\"]\n"
     ]
    }
   ],
   "source": [
    "# Read the dialogue text data\n",
    "with open(dialogues_text_file, 'r', encoding='utf-8') as f:\n",
    "    dialogues = f.readlines()\n",
    "\n",
    "print(dialogues[:10])"
   ]
  },
  {
   "cell_type": "code",
   "execution_count": 4,
   "metadata": {},
   "outputs": [],
   "source": [
    "# Load topics, acts, and emotions\n",
    "with open(dialogues_topic_file, 'r', encoding='utf-8') as f:\n",
    "    topics = f.readlines()\n",
    "\n",
    "with open(dialogues_act_file, 'r', encoding='utf-8') as f:\n",
    "    acts = f.readlines()\n",
    "\n",
    "with open(dialogues_emotion_file, 'r', encoding='utf-8') as f:\n",
    "    emotions = f.readlines()"
   ]
  },
  {
   "cell_type": "code",
   "execution_count": 5,
   "metadata": {},
   "outputs": [
    {
     "data": {
      "text/html": [
       "<div>\n",
       "<style scoped>\n",
       "    .dataframe tbody tr th:only-of-type {\n",
       "        vertical-align: middle;\n",
       "    }\n",
       "\n",
       "    .dataframe tbody tr th {\n",
       "        vertical-align: top;\n",
       "    }\n",
       "\n",
       "    .dataframe thead th {\n",
       "        text-align: right;\n",
       "    }\n",
       "</style>\n",
       "<table border=\"1\" class=\"dataframe\">\n",
       "  <thead>\n",
       "    <tr style=\"text-align: right;\">\n",
       "      <th></th>\n",
       "      <th>User</th>\n",
       "      <th>Response</th>\n",
       "    </tr>\n",
       "  </thead>\n",
       "  <tbody>\n",
       "    <tr>\n",
       "      <th>0</th>\n",
       "      <td>The kitchen stinks .</td>\n",
       "      <td>I'll throw out the garbage .</td>\n",
       "    </tr>\n",
       "    <tr>\n",
       "      <th>1</th>\n",
       "      <td>So Dick , how about getting some coffee for to...</td>\n",
       "      <td>Coffee ? I don ’ t honestly like that kind of ...</td>\n",
       "    </tr>\n",
       "    <tr>\n",
       "      <th>2</th>\n",
       "      <td>Coffee ? I don ’ t honestly like that kind of ...</td>\n",
       "      <td>Come on , you can at least try a little , besi...</td>\n",
       "    </tr>\n",
       "    <tr>\n",
       "      <th>3</th>\n",
       "      <td>Come on , you can at least try a little , besi...</td>\n",
       "      <td>What ’ s wrong with that ? Cigarette is the th...</td>\n",
       "    </tr>\n",
       "    <tr>\n",
       "      <th>4</th>\n",
       "      <td>What ’ s wrong with that ? Cigarette is the th...</td>\n",
       "      <td>Not for me , Dick .</td>\n",
       "    </tr>\n",
       "  </tbody>\n",
       "</table>\n",
       "</div>"
      ],
      "text/plain": [
       "                                                User  \\\n",
       "0                               The kitchen stinks .   \n",
       "1  So Dick , how about getting some coffee for to...   \n",
       "2  Coffee ? I don ’ t honestly like that kind of ...   \n",
       "3  Come on , you can at least try a little , besi...   \n",
       "4  What ’ s wrong with that ? Cigarette is the th...   \n",
       "\n",
       "                                            Response  \n",
       "0                       I'll throw out the garbage .  \n",
       "1  Coffee ? I don ’ t honestly like that kind of ...  \n",
       "2  Come on , you can at least try a little , besi...  \n",
       "3  What ’ s wrong with that ? Cigarette is the th...  \n",
       "4                                Not for me , Dick .  "
      ]
     },
     "execution_count": 5,
     "metadata": {},
     "output_type": "execute_result"
    }
   ],
   "source": [
    "# Convert dialogues to user-response pairs\n",
    "dialogue_pairs = []\n",
    "for dialogue in dialogues:\n",
    "    lines = dialogue.split('__eou__')[:-1]\n",
    "    for i in range(len(lines) - 1):\n",
    "        dialogue_pairs.append((lines[i].strip(), lines[i + 1].strip()))\n",
    "\n",
    "# Creating a dataframe for visualization\n",
    "df = pd.DataFrame(dialogue_pairs, columns=['User', 'Response'])\n",
    "df.head()"
   ]
  },
  {
   "cell_type": "code",
   "execution_count": 14,
   "metadata": {},
   "outputs": [],
   "source": [
    "from transformers import GPT2Tokenizer, GPT2LMHeadModel, AdamW\n",
    "from transformers import Trainer, TrainingArguments\n",
    "import torch\n",
    "from tqdm import tqdm\n",
    "from torch.utils.data import DataLoader, Dataset\n"
   ]
  },
  {
   "cell_type": "code",
   "execution_count": 8,
   "metadata": {},
   "outputs": [],
   "source": [
    "# Load pre-trained GPT-2 model and tokenizer\n",
    "tokenizer = GPT2Tokenizer.from_pretrained('gpt2')\n",
    "model = GPT2LMHeadModel.from_pretrained('gpt2')\n"
   ]
  },
  {
   "cell_type": "code",
   "execution_count": 9,
   "metadata": {},
   "outputs": [],
   "source": [
    "# Tokenize the input and response pairs\n",
    "def tokenize_function(examples):\n",
    "    return tokenizer(examples['User'], padding=\"max_length\", truncation=True)\n"
   ]
  },
  {
   "cell_type": "code",
   "execution_count": 15,
   "metadata": {},
   "outputs": [],
   "source": [
    "# Set the pad token\n",
    "tokenizer.pad_token = tokenizer.eos_token\n"
   ]
  },
  {
   "cell_type": "code",
   "execution_count": 16,
   "metadata": {},
   "outputs": [],
   "source": [
    "# Tokenize the input and response pairs\n",
    "def tokenize_data(data, tokenizer, max_length=128):\n",
    "    inputs = tokenizer(\n",
    "        data['User'].tolist(),\n",
    "        padding='max_length',\n",
    "        truncation=True,\n",
    "        max_length=max_length,\n",
    "        return_tensors='pt'\n",
    "    )\n",
    "    labels = tokenizer(\n",
    "        data['Response'].tolist(),\n",
    "        padding='max_length',\n",
    "        truncation=True,\n",
    "        max_length=max_length,\n",
    "        return_tensors='pt'\n",
    "    ).input_ids\n",
    "    return inputs, labels"
   ]
  },
  {
   "cell_type": "code",
   "execution_count": 17,
   "metadata": {},
   "outputs": [],
   "source": [
    "# Create a custom dataset class\n",
    "class DialogueDataset(Dataset):\n",
    "    def __init__(self, inputs, labels):\n",
    "        self.inputs = inputs\n",
    "        self.labels = labels\n",
    "\n",
    "    def __len__(self):\n",
    "        return len(self.inputs.input_ids)\n",
    "\n",
    "    def __getitem__(self, idx):\n",
    "        input_ids = self.inputs.input_ids[idx]\n",
    "        attention_mask = self.inputs.attention_mask[idx]\n",
    "        labels = self.labels[idx]\n",
    "        return {'input_ids': input_ids, 'attention_mask': attention_mask, 'labels': labels}"
   ]
  },
  {
   "cell_type": "code",
   "execution_count": 18,
   "metadata": {},
   "outputs": [],
   "source": [
    "# Prepare tokenized datasets\n",
    "inputs, labels = tokenize_data(df, tokenizer)\n",
    "train_dataset = DialogueDataset(inputs, labels)"
   ]
  },
  {
   "cell_type": "code",
   "execution_count": 19,
   "metadata": {},
   "outputs": [],
   "source": [
    "# Prepare data loader\n",
    "train_loader = DataLoader(train_dataset, batch_size=4, shuffle=True)"
   ]
  },
  {
   "cell_type": "code",
   "execution_count": 20,
   "metadata": {},
   "outputs": [
    {
     "data": {
      "text/plain": [
       "GPT2LMHeadModel(\n",
       "  (transformer): GPT2Model(\n",
       "    (wte): Embedding(50257, 768)\n",
       "    (wpe): Embedding(1024, 768)\n",
       "    (drop): Dropout(p=0.1, inplace=False)\n",
       "    (h): ModuleList(\n",
       "      (0-11): 12 x GPT2Block(\n",
       "        (ln_1): LayerNorm((768,), eps=1e-05, elementwise_affine=True)\n",
       "        (attn): GPT2SdpaAttention(\n",
       "          (c_attn): Conv1D(nf=2304, nx=768)\n",
       "          (c_proj): Conv1D(nf=768, nx=768)\n",
       "          (attn_dropout): Dropout(p=0.1, inplace=False)\n",
       "          (resid_dropout): Dropout(p=0.1, inplace=False)\n",
       "        )\n",
       "        (ln_2): LayerNorm((768,), eps=1e-05, elementwise_affine=True)\n",
       "        (mlp): GPT2MLP(\n",
       "          (c_fc): Conv1D(nf=3072, nx=768)\n",
       "          (c_proj): Conv1D(nf=768, nx=3072)\n",
       "          (act): NewGELUActivation()\n",
       "          (dropout): Dropout(p=0.1, inplace=False)\n",
       "        )\n",
       "      )\n",
       "    )\n",
       "    (ln_f): LayerNorm((768,), eps=1e-05, elementwise_affine=True)\n",
       "  )\n",
       "  (lm_head): Linear(in_features=768, out_features=50257, bias=False)\n",
       ")"
      ]
     },
     "execution_count": 20,
     "metadata": {},
     "output_type": "execute_result"
    }
   ],
   "source": [
    "# Set device (GPU if available)\n",
    "device = torch.device('cuda' if torch.cuda.is_available() else 'cpu')\n",
    "model.to(device)\n"
   ]
  },
  {
   "cell_type": "code",
   "execution_count": 21,
   "metadata": {},
   "outputs": [
    {
     "name": "stderr",
     "output_type": "stream",
     "text": [
      "/Users/macbook2015/ml1/chatbot/.venv/lib/python3.11/site-packages/transformers/optimization.py:591: FutureWarning: This implementation of AdamW is deprecated and will be removed in a future version. Use the PyTorch implementation torch.optim.AdamW instead, or set `no_deprecation_warning=True` to disable this warning\n",
      "  warnings.warn(\n"
     ]
    }
   ],
   "source": [
    "# Define optimizer\n",
    "optimizer = AdamW(model.parameters(), lr=5e-5)"
   ]
  },
  {
   "cell_type": "code",
   "execution_count": 23,
   "metadata": {},
   "outputs": [
    {
     "name": "stderr",
     "output_type": "stream",
     "text": [
      "Epoch 1/1:   0%|          | 0/22466 [00:00<?, ?it/s]"
     ]
    },
    {
     "name": "stderr",
     "output_type": "stream",
     "text": [
      "Epoch 1/1:   0%|          | 16/22466 [02:33<59:46:37,  9.59s/it, Loss=0.000714]"
     ]
    }
   ],
   "source": [
    "# Training loop\n",
    "epochs = 1\n",
    "for epoch in range(epochs):\n",
    "    model.train()\n",
    "    total_loss = 0\n",
    "    progress_bar = tqdm(train_loader, desc=f\"Epoch {epoch + 1}/{epochs}\")\n",
    "    \n",
    "    for batch in progress_bar:\n",
    "        optimizer.zero_grad()\n",
    "        \n",
    "        # Move batch data to the correct device\n",
    "        input_ids = batch['input_ids'].to(device)\n",
    "        attention_mask = batch['attention_mask'].to(device)\n",
    "        labels = batch['labels'].to(device)\n",
    "        \n",
    "        # Forward pass\n",
    "        outputs = model(input_ids, attention_mask=attention_mask, labels=labels)\n",
    "        loss = outputs.loss\n",
    "        \n",
    "        # Backward pass and optimization\n",
    "        loss.backward()\n",
    "        optimizer.step()\n",
    "        \n",
    "        total_loss += loss.item()\n",
    "        progress_bar.set_postfix({\"Loss\": total_loss / len(train_loader)})\n",
    "\n",
    "    print(f\"Epoch {epoch + 1} finished. Loss: {total_loss / len(train_loader)}\")\n",
    "\n",
    "print(\"Training completed!\")"
   ]
  }
 ],
 "metadata": {
  "kernelspec": {
   "display_name": ".venv",
   "language": "python",
   "name": "python3"
  },
  "language_info": {
   "codemirror_mode": {
    "name": "ipython",
    "version": 3
   },
   "file_extension": ".py",
   "mimetype": "text/x-python",
   "name": "python",
   "nbconvert_exporter": "python",
   "pygments_lexer": "ipython3",
   "version": "3.11.0"
  }
 },
 "nbformat": 4,
 "nbformat_minor": 2
}
